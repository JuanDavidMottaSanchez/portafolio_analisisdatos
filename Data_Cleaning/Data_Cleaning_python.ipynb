{
 "cells": [
  {
   "cell_type": "markdown",
   "metadata": {},
   "source": [
    "# Lectura de los datos"
   ]
  },
  {
   "cell_type": "code",
   "execution_count": 100,
   "metadata": {},
   "outputs": [
    {
     "name": "stdout",
     "output_type": "stream",
     "text": [
      "<class 'pandas.core.frame.DataFrame'>\n",
      "RangeIndex: 87489 entries, 0 to 87488\n",
      "Data columns (total 8 columns):\n",
      " #   Column       Non-Null Count  Dtype \n",
      "---  ------       --------------  ----- \n",
      " 0   name         87489 non-null  object\n",
      " 1   author       87489 non-null  object\n",
      " 2   narrator     87489 non-null  object\n",
      " 3   time         87489 non-null  object\n",
      " 4   releasedate  87489 non-null  object\n",
      " 5   language     87489 non-null  object\n",
      " 6   stars        87489 non-null  object\n",
      " 7   price        87489 non-null  object\n",
      "dtypes: object(8)\n",
      "memory usage: 5.3+ MB\n"
     ]
    }
   ],
   "source": [
    "#PrimerPortafolio\n",
    "import pandas as pd\n",
    "audible=pd.read_csv('audible_uncleaned.csv')\n",
    "audible.info()"
   ]
  },
  {
   "cell_type": "code",
   "execution_count": 101,
   "metadata": {},
   "outputs": [
    {
     "data": {
      "text/plain": [
       "Writtenby:矢島雅弘,石橋遊                                              874\n",
       "Writtenby:SmartReading                                          405\n",
       "Writtenby:中西貴之,BJ                                               311\n",
       "Writtenby:div.                                                  274\n",
       "Writtenby:OnlineStudioProductions                               212\n",
       "                                                               ... \n",
       "Writtenby:AlessandroGoglio,AndreaGoldstein                        1\n",
       "Writtenby:DianaThomas,StaceyBoyle                                 1\n",
       "Writtenby:KarieWillyerd,BarbaraMistick,JosephGrenny-foreword      1\n",
       "Writtenby:FrancesKay                                              1\n",
       "Writtenby:StephenO'Shea                                           1\n",
       "Name: author, Length: 48374, dtype: int64"
      ]
     },
     "execution_count": 101,
     "metadata": {},
     "output_type": "execute_result"
    }
   ],
   "source": [
    "#Explorando la columna name\n",
    "audible.author.value_counts()"
   ]
  },
  {
   "cell_type": "code",
   "execution_count": 102,
   "metadata": {},
   "outputs": [
    {
     "name": "stdout",
     "output_type": "stream",
     "text": [
      "<class 'pandas.core.frame.DataFrame'>\n",
      "RangeIndex: 104346 entries, 0 to 104345\n",
      "Data columns (total 2 columns):\n",
      " #   Column       Non-Null Count   Dtype \n",
      "---  ------       --------------   ----- \n",
      " 0   idAudible    104346 non-null  int64 \n",
      " 1   nombreAutor  104346 non-null  object\n",
      "dtypes: int64(1), object(1)\n",
      "memory usage: 1.6+ MB\n"
     ]
    }
   ],
   "source": [
    "listanarradores=[]\n",
    "listaid=[]\n",
    "\n",
    "for i in audible.index:\n",
    "    for autor in audible.author[i].split('Writtenby:')[1].split(','):\n",
    "        listanarradores.append(autor)\n",
    "        listaid.append(i)\n",
    "\n",
    "df_autoresxaudible=pd.DataFrame(zip(listaid,listanarradores),columns=['idAudible','nombreAutor'])\n",
    "df_autoresxaudible.info()"
   ]
  },
  {
   "cell_type": "code",
   "execution_count": 103,
   "metadata": {},
   "outputs": [
    {
     "data": {
      "text/plain": [
       "Narratedby:anonymous                      1034\n",
       "Narratedby:矢島雅弘,石橋遊                        874\n",
       "Narratedby:Intuitive                       465\n",
       "Narratedby:uncredited                      326\n",
       "Narratedby:中西貴之,BJ                         311\n",
       "                                          ... \n",
       "Narratedby:HannahB.                          1\n",
       "Narratedby:DavidSimonM.D.,DeepakChopra       1\n",
       "Narratedby:CorinneZupko                      1\n",
       "Narratedby:SandraIngerman                    1\n",
       "Narratedby:ChrisStewart                      1\n",
       "Name: narrator, Length: 29717, dtype: int64"
      ]
     },
     "execution_count": 103,
     "metadata": {},
     "output_type": "execute_result"
    }
   ],
   "source": [
    "audible.narrator.value_counts()"
   ]
  },
  {
   "cell_type": "code",
   "execution_count": 104,
   "metadata": {},
   "outputs": [
    {
     "name": "stdout",
     "output_type": "stream",
     "text": [
      "<class 'pandas.core.frame.DataFrame'>\n",
      "RangeIndex: 103761 entries, 0 to 103760\n",
      "Data columns (total 2 columns):\n",
      " #   Column          Non-Null Count   Dtype \n",
      "---  ------          --------------   ----- \n",
      " 0   idAudible       103761 non-null  int64 \n",
      " 1   nombreNarrador  103761 non-null  object\n",
      "dtypes: int64(1), object(1)\n",
      "memory usage: 1.6+ MB\n"
     ]
    }
   ],
   "source": [
    "listanarradores=[]\n",
    "listaid=[]\n",
    "\n",
    "for i in audible.index:\n",
    "    for autor in audible.narrator[i].split('Narratedby:')[1].split(','):\n",
    "        listanarradores.append(autor)\n",
    "        listaid.append(i)\n",
    "\n",
    "df_narradorxaudible=pd.DataFrame(zip(listaid,listanarradores),columns=['idAudible','nombreNarrador'])\n",
    "df_narradorxaudible.info()"
   ]
  },
  {
   "cell_type": "code",
   "execution_count": 105,
   "metadata": {},
   "outputs": [
    {
     "data": {
      "text/plain": [
       "2 mins                372\n",
       "6 mins                369\n",
       "5 mins                369\n",
       "7 mins                356\n",
       "4 mins                347\n",
       "                     ... \n",
       "32 hrs and 16 mins      1\n",
       "41 hrs and 16 mins      1\n",
       "35 hrs and 48 mins      1\n",
       "30 hrs and 15 mins      1\n",
       "24 hrs and 4 mins       1\n",
       "Name: time, Length: 2284, dtype: int64"
      ]
     },
     "execution_count": 105,
     "metadata": {},
     "output_type": "execute_result"
    }
   ],
   "source": [
    "audible.time.value_counts()"
   ]
  },
  {
   "cell_type": "code",
   "execution_count": 106,
   "metadata": {},
   "outputs": [
    {
     "name": "stdout",
     "output_type": "stream",
     "text": [
      "10 hrs and 35 mins\n"
     ]
    },
    {
     "data": {
      "text/plain": [
       "Timedelta('0 days 10:35:00')"
      ]
     },
     "execution_count": 106,
     "metadata": {},
     "output_type": "execute_result"
    }
   ],
   "source": [
    "print(audible.time[5])\n",
    "td = pd.to_timedelta(audible.time[5].replace('s','').replace(' and ',' '))\n",
    "td"
   ]
  },
  {
   "cell_type": "code",
   "execution_count": 107,
   "metadata": {},
   "outputs": [],
   "source": [
    "import re\n",
    "duraciones=[]\n",
    "\n",
    "for i in audible.index:\n",
    "    try:\n",
    "        basicstars=audible.time[i].replace('s','')\n",
    "        if re.match('(\\d+)\\s*hr\\s*and\\s*(\\d+)\\s*min',basicstars)!=None:\n",
    "            m=re.match('(\\d+)\\s*hr\\s*and\\s*(\\d+)\\s*min',basicstars)\n",
    "            duraciones.append(pd.Timedelta(hours=int(m.group(1)),minutes=int(m.group(2))))\n",
    "        elif re.match('(\\d+)\\s*min',basicstars)!=None:\n",
    "            m=re.match('(\\d+)\\s*min',basicstars)\n",
    "            duraciones.append(pd.Timedelta(minutes=int(m.group(1))))\n",
    "        elif re.match('(\\d+)\\s*hr',basicstars)!=None:\n",
    "            m=re.match('(\\d+)\\s*hr',basicstars)\n",
    "            duraciones.append(pd.Timedelta(hours=int(m.group(1))))\n",
    "        elif basicstars=='Le than 1 minute':\n",
    "            duraciones.append(pd.Timedelta(seconds=59))\n",
    "        else:\n",
    "            print(audible.time[i])\n",
    "    except:\n",
    "        duraciones.append(0)\n",
    "        print(audible.time[i])\n",
    "\n",
    "audible['duraciones']=duraciones"
   ]
  },
  {
   "cell_type": "code",
   "execution_count": 108,
   "metadata": {},
   "outputs": [
    {
     "data": {
      "text/plain": [
       "0 days 00:02:00    372\n",
       "0 days 00:06:00    369\n",
       "0 days 00:05:00    369\n",
       "0 days 00:07:00    356\n",
       "0 days 00:04:00    347\n",
       "                  ... \n",
       "1 days 08:16:00      1\n",
       "1 days 17:16:00      1\n",
       "1 days 11:48:00      1\n",
       "1 days 06:15:00      1\n",
       "1 days 00:04:00      1\n",
       "Name: duraciones, Length: 2284, dtype: int64"
      ]
     },
     "execution_count": 108,
     "metadata": {},
     "output_type": "execute_result"
    }
   ],
   "source": [
    "audible['duraciones'].value_counts()"
   ]
  },
  {
   "cell_type": "code",
   "execution_count": 109,
   "metadata": {},
   "outputs": [
    {
     "data": {
      "text/html": [
       "<div>\n",
       "<style scoped>\n",
       "    .dataframe tbody tr th:only-of-type {\n",
       "        vertical-align: middle;\n",
       "    }\n",
       "\n",
       "    .dataframe tbody tr th {\n",
       "        vertical-align: top;\n",
       "    }\n",
       "\n",
       "    .dataframe thead th {\n",
       "        text-align: right;\n",
       "    }\n",
       "</style>\n",
       "<table border=\"1\" class=\"dataframe\">\n",
       "  <thead>\n",
       "    <tr style=\"text-align: right;\">\n",
       "      <th></th>\n",
       "      <th>releasedate</th>\n",
       "      <th>daterelease</th>\n",
       "    </tr>\n",
       "  </thead>\n",
       "  <tbody>\n",
       "    <tr>\n",
       "      <th>0</th>\n",
       "      <td>04-08-08</td>\n",
       "      <td>2008-04-08</td>\n",
       "    </tr>\n",
       "    <tr>\n",
       "      <th>1</th>\n",
       "      <td>01-05-18</td>\n",
       "      <td>2018-01-05</td>\n",
       "    </tr>\n",
       "    <tr>\n",
       "      <th>2</th>\n",
       "      <td>06-11-20</td>\n",
       "      <td>2020-06-11</td>\n",
       "    </tr>\n",
       "    <tr>\n",
       "      <th>3</th>\n",
       "      <td>05-10-21</td>\n",
       "      <td>2021-05-10</td>\n",
       "    </tr>\n",
       "    <tr>\n",
       "      <th>4</th>\n",
       "      <td>13-01-10</td>\n",
       "      <td>2010-01-13</td>\n",
       "    </tr>\n",
       "    <tr>\n",
       "      <th>...</th>\n",
       "      <td>...</td>\n",
       "      <td>...</td>\n",
       "    </tr>\n",
       "    <tr>\n",
       "      <th>87484</th>\n",
       "      <td>09-03-17</td>\n",
       "      <td>2017-09-03</td>\n",
       "    </tr>\n",
       "    <tr>\n",
       "      <th>87485</th>\n",
       "      <td>21-02-17</td>\n",
       "      <td>2017-02-21</td>\n",
       "    </tr>\n",
       "    <tr>\n",
       "      <th>87486</th>\n",
       "      <td>30-12-16</td>\n",
       "      <td>2016-12-30</td>\n",
       "    </tr>\n",
       "    <tr>\n",
       "      <th>87487</th>\n",
       "      <td>23-02-11</td>\n",
       "      <td>2011-02-23</td>\n",
       "    </tr>\n",
       "    <tr>\n",
       "      <th>87488</th>\n",
       "      <td>07-03-17</td>\n",
       "      <td>2017-07-03</td>\n",
       "    </tr>\n",
       "  </tbody>\n",
       "</table>\n",
       "<p>87489 rows × 2 columns</p>\n",
       "</div>"
      ],
      "text/plain": [
       "      releasedate daterelease\n",
       "0        04-08-08  2008-04-08\n",
       "1        01-05-18  2018-01-05\n",
       "2        06-11-20  2020-06-11\n",
       "3        05-10-21  2021-05-10\n",
       "4        13-01-10  2010-01-13\n",
       "...           ...         ...\n",
       "87484    09-03-17  2017-09-03\n",
       "87485    21-02-17  2017-02-21\n",
       "87486    30-12-16  2016-12-30\n",
       "87487    23-02-11  2011-02-23\n",
       "87488    07-03-17  2017-07-03\n",
       "\n",
       "[87489 rows x 2 columns]"
      ]
     },
     "execution_count": 109,
     "metadata": {},
     "output_type": "execute_result"
    }
   ],
   "source": [
    "audible['daterelease']=pd.to_datetime(audible.releasedate)\n",
    "audible[['releasedate','daterelease']]"
   ]
  },
  {
   "cell_type": "code",
   "execution_count": 110,
   "metadata": {},
   "outputs": [
    {
     "data": {
      "text/plain": [
       "English             61884\n",
       "german               8295\n",
       "spanish              3496\n",
       "japanese             3167\n",
       "italian              2694\n",
       "french               2386\n",
       "russian              1804\n",
       "danish                935\n",
       "portuguese            526\n",
       "swedish               515\n",
       "Hindi                 436\n",
       "polish                224\n",
       "finnish               197\n",
       "dutch                 190\n",
       "tamil                 161\n",
       "catalan               153\n",
       "mandarin_chinese       97\n",
       "icelandic              52\n",
       "romanian               50\n",
       "hungarian              36\n",
       "urdu                   34\n",
       "afrikaans              28\n",
       "czech                  23\n",
       "turkish                20\n",
       "greek                  18\n",
       "arabic                 16\n",
       "norwegian              16\n",
       "galician               10\n",
       "bulgarian               9\n",
       "korean                  4\n",
       "slovene                 4\n",
       "hebrew                  2\n",
       "basque                  2\n",
       "telugu                  2\n",
       "lithuanian              2\n",
       "ukrainian               1\n",
       "Name: language, dtype: int64"
      ]
     },
     "execution_count": 110,
     "metadata": {},
     "output_type": "execute_result"
    }
   ],
   "source": [
    "audible.language.value_counts()"
   ]
  },
  {
   "cell_type": "code",
   "execution_count": 111,
   "metadata": {},
   "outputs": [
    {
     "data": {
      "text/plain": [
       "Not rated yet                    72417\n",
       "5 out of 5 stars1 rating          3739\n",
       "4 out of 5 stars1 rating          1254\n",
       "5 out of 5 stars2 ratings          998\n",
       "4.5 out of 5 stars2 ratings        661\n",
       "                                 ...  \n",
       "3.5 out of 5 stars61 ratings         1\n",
       "5 out of 5 stars321 ratings          1\n",
       "5 out of 5 stars93 ratings           1\n",
       "4.5 out of 5 stars747 ratings        1\n",
       "4 out of 5 stars76 ratings           1\n",
       "Name: stars, Length: 665, dtype: int64"
      ]
     },
     "execution_count": 111,
     "metadata": {},
     "output_type": "execute_result"
    }
   ],
   "source": [
    "audible.stars.value_counts()"
   ]
  },
  {
   "cell_type": "code",
   "execution_count": 120,
   "metadata": {},
   "outputs": [],
   "source": [
    "import re\n",
    "import numpy as np\n",
    "estrellascalificadas=[]\n",
    "#estrellasmaximas=[]\n",
    "totalcalificaciones=[]\n",
    "\n",
    "for i in audible.index:\n",
    "    try:\n",
    "        basicstars=audible.stars[i].replace('ratings','rating')\n",
    "        if re.match('(\\d+(\\.\\d+)?)\\s*out of\\s*5\\s*stars(\\d+)\\s*rating',basicstars)!=None:\n",
    "            m=re.match('(\\d+(\\.\\d+)?)\\s*out of\\s*5\\s*stars(\\d+)\\s*rating',basicstars)\n",
    "            estrellascalificadas.append(float(m.group(1)))\n",
    "            #estrellasmaximas.append(float(m.group(2)))\n",
    "            totalcalificaciones.append(float(m.group(3)))\n",
    "        elif re.match('(\\d+(\\.\\d+)?)\\s*out of\\s*5\\s*stars([\\d,]+)\\s*rating',basicstars)!=None:\n",
    "            m=re.match('(\\d+(\\.\\d+)?)\\s*out of\\s*5\\s*stars([\\d,]+)\\s*rating',basicstars)\n",
    "            estrellascalificadas.append(float(m.group(1)))\n",
    "            #estrellasmaximas.append(float(m.group(2)))\n",
    "            totalcalificaciones.append(float(m.group(3).replace(',','')))\n",
    "        elif basicstars=='Not rated yet':\n",
    "            estrellascalificadas.append(np.nan)\n",
    "            #estrellasmaximas.append(np.nan)\n",
    "            totalcalificaciones.append(np.nan)\n",
    "        else:\n",
    "            print(audible.stars[i])\n",
    "    except:\n",
    "        estrellascalificadas.append(np.nan)\n",
    "        #estrellasmaximas.append(np.nan)\n",
    "        totalcalificaciones.append(np.nan)\n",
    "        print(audible.stars[i])\n",
    "\n",
    "audible['estrellascalificadas']=estrellascalificadas\n",
    "#audible['estrellasmaximas']=estrellasmaximas\n",
    "audible['totalcalificaciones']=totalcalificaciones"
   ]
  },
  {
   "cell_type": "code",
   "execution_count": 121,
   "metadata": {},
   "outputs": [
    {
     "data": {
      "text/html": [
       "<div>\n",
       "<style scoped>\n",
       "    .dataframe tbody tr th:only-of-type {\n",
       "        vertical-align: middle;\n",
       "    }\n",
       "\n",
       "    .dataframe tbody tr th {\n",
       "        vertical-align: top;\n",
       "    }\n",
       "\n",
       "    .dataframe thead th {\n",
       "        text-align: right;\n",
       "    }\n",
       "</style>\n",
       "<table border=\"1\" class=\"dataframe\">\n",
       "  <thead>\n",
       "    <tr style=\"text-align: right;\">\n",
       "      <th></th>\n",
       "      <th>totalcalificaciones</th>\n",
       "      <th>estrellascalificadas</th>\n",
       "    </tr>\n",
       "  </thead>\n",
       "  <tbody>\n",
       "    <tr>\n",
       "      <th>count</th>\n",
       "      <td>15072.000000</td>\n",
       "      <td>15072.00000</td>\n",
       "    </tr>\n",
       "    <tr>\n",
       "      <th>mean</th>\n",
       "      <td>21.613190</td>\n",
       "      <td>4.45694</td>\n",
       "    </tr>\n",
       "    <tr>\n",
       "      <th>std</th>\n",
       "      <td>207.479634</td>\n",
       "      <td>0.72394</td>\n",
       "    </tr>\n",
       "    <tr>\n",
       "      <th>min</th>\n",
       "      <td>1.000000</td>\n",
       "      <td>1.00000</td>\n",
       "    </tr>\n",
       "    <tr>\n",
       "      <th>25%</th>\n",
       "      <td>1.000000</td>\n",
       "      <td>4.00000</td>\n",
       "    </tr>\n",
       "    <tr>\n",
       "      <th>50%</th>\n",
       "      <td>2.000000</td>\n",
       "      <td>4.50000</td>\n",
       "    </tr>\n",
       "    <tr>\n",
       "      <th>75%</th>\n",
       "      <td>7.000000</td>\n",
       "      <td>5.00000</td>\n",
       "    </tr>\n",
       "    <tr>\n",
       "      <th>max</th>\n",
       "      <td>12573.000000</td>\n",
       "      <td>5.00000</td>\n",
       "    </tr>\n",
       "  </tbody>\n",
       "</table>\n",
       "</div>"
      ],
      "text/plain": [
       "       totalcalificaciones  estrellascalificadas\n",
       "count         15072.000000           15072.00000\n",
       "mean             21.613190               4.45694\n",
       "std             207.479634               0.72394\n",
       "min               1.000000               1.00000\n",
       "25%               1.000000               4.00000\n",
       "50%               2.000000               4.50000\n",
       "75%               7.000000               5.00000\n",
       "max           12573.000000               5.00000"
      ]
     },
     "execution_count": 121,
     "metadata": {},
     "output_type": "execute_result"
    }
   ],
   "source": [
    "audible[['totalcalificaciones','estrellascalificadas']].describe()"
   ]
  },
  {
   "cell_type": "code",
   "execution_count": 129,
   "metadata": {},
   "outputs": [
    {
     "data": {
      "text/plain": [
       "Not rated yet    72417\n",
       "Name: stars, dtype: int64"
      ]
     },
     "execution_count": 129,
     "metadata": {},
     "output_type": "execute_result"
    }
   ],
   "source": [
    "audible[audible['totalcalificaciones'].isna()]['stars'].value_counts()"
   ]
  },
  {
   "cell_type": "code",
   "execution_count": 130,
   "metadata": {},
   "outputs": [
    {
     "data": {
      "text/plain": [
       "586.00      5533\n",
       "668.00      4262\n",
       "703.00      3588\n",
       "836.00      2704\n",
       "820.00      2458\n",
       "            ... \n",
       "2,631.00       1\n",
       "2,764.00       1\n",
       "895.00         1\n",
       "364.00         1\n",
       "544.00         1\n",
       "Name: price, Length: 1011, dtype: int64"
      ]
     },
     "execution_count": 130,
     "metadata": {},
     "output_type": "execute_result"
    }
   ],
   "source": [
    "audible.price.value_counts()"
   ]
  }
 ],
 "metadata": {
  "kernelspec": {
   "display_name": "Python 3",
   "language": "python",
   "name": "python3"
  },
  "language_info": {
   "codemirror_mode": {
    "name": "ipython",
    "version": 3
   },
   "file_extension": ".py",
   "mimetype": "text/x-python",
   "name": "python",
   "nbconvert_exporter": "python",
   "pygments_lexer": "ipython3",
   "version": "3.9.6"
  }
 },
 "nbformat": 4,
 "nbformat_minor": 2
}

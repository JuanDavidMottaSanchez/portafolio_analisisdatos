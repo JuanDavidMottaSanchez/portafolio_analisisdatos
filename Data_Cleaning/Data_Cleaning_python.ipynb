{
 "cells": [
  {
   "cell_type": "markdown",
   "metadata": {},
   "source": [
    "# Parametrización "
   ]
  },
  {
   "cell_type": "code",
   "execution_count": 1,
   "metadata": {},
   "outputs": [],
   "source": [
    "#Importar paquetes\n",
    "import pandas as pd\n",
    "import numpy as np\n",
    "import re"
   ]
  },
  {
   "cell_type": "code",
   "execution_count": 2,
   "metadata": {},
   "outputs": [],
   "source": [
    "#Dataframes\n",
    "audibleTabla=pd.DataFrame()\n",
    "autoresPorAudibleTabla=pd.DataFrame()\n",
    "narradorPorAudibleTabla=pd.DataFrame()\n",
    "audibleLimpioTabla=pd.DataFrame\n",
    "#Listas\n",
    "nombreNarradoresPorAudibleLista=[]\n",
    "nombreAutoresPorAudibleLista=[]\n",
    "indexAudible=[]\n",
    "duracionPorAudibleLista=[]\n",
    "estrellasCalificadasPorAudibleLista=[]\n",
    "cantidadCalificacionesPorAudibleLista=[]"
   ]
  },
  {
   "cell_type": "markdown",
   "metadata": {},
   "source": [
    "# Carge de datos"
   ]
  },
  {
   "cell_type": "code",
   "execution_count": 3,
   "metadata": {},
   "outputs": [],
   "source": [
    "audibleTabla=pd.read_csv('audible_uncleaned.csv')"
   ]
  },
  {
   "cell_type": "markdown",
   "metadata": {},
   "source": [
    "# Exploración"
   ]
  },
  {
   "cell_type": "code",
   "execution_count": 4,
   "metadata": {},
   "outputs": [
    {
     "name": "stdout",
     "output_type": "stream",
     "text": [
      "<class 'pandas.core.frame.DataFrame'>\n",
      "RangeIndex: 87489 entries, 0 to 87488\n",
      "Data columns (total 8 columns):\n",
      " #   Column       Non-Null Count  Dtype \n",
      "---  ------       --------------  ----- \n",
      " 0   name         87489 non-null  object\n",
      " 1   author       87489 non-null  object\n",
      " 2   narrator     87489 non-null  object\n",
      " 3   time         87489 non-null  object\n",
      " 4   releasedate  87489 non-null  object\n",
      " 5   language     87489 non-null  object\n",
      " 6   stars        87489 non-null  object\n",
      " 7   price        87489 non-null  object\n",
      "dtypes: object(8)\n",
      "memory usage: 5.3+ MB\n"
     ]
    }
   ],
   "source": [
    "audibleTabla.info()"
   ]
  },
  {
   "cell_type": "code",
   "execution_count": 5,
   "metadata": {},
   "outputs": [
    {
     "data": {
      "text/plain": [
       "Writtenby:矢島雅弘,石橋遊                                              874\n",
       "Writtenby:SmartReading                                          405\n",
       "Writtenby:中西貴之,BJ                                               311\n",
       "Writtenby:div.                                                  274\n",
       "Writtenby:OnlineStudioProductions                               212\n",
       "                                                               ... \n",
       "Writtenby:AlessandroGoglio,AndreaGoldstein                        1\n",
       "Writtenby:DianaThomas,StaceyBoyle                                 1\n",
       "Writtenby:KarieWillyerd,BarbaraMistick,JosephGrenny-foreword      1\n",
       "Writtenby:FrancesKay                                              1\n",
       "Writtenby:StephenO'Shea                                           1\n",
       "Name: author, Length: 48374, dtype: int64"
      ]
     },
     "execution_count": 5,
     "metadata": {},
     "output_type": "execute_result"
    }
   ],
   "source": [
    "audibleTabla.author.value_counts()"
   ]
  },
  {
   "cell_type": "code",
   "execution_count": 6,
   "metadata": {},
   "outputs": [
    {
     "data": {
      "text/plain": [
       "Narratedby:anonymous                      1034\n",
       "Narratedby:矢島雅弘,石橋遊                        874\n",
       "Narratedby:Intuitive                       465\n",
       "Narratedby:uncredited                      326\n",
       "Narratedby:中西貴之,BJ                         311\n",
       "                                          ... \n",
       "Narratedby:HannahB.                          1\n",
       "Narratedby:DavidSimonM.D.,DeepakChopra       1\n",
       "Narratedby:CorinneZupko                      1\n",
       "Narratedby:SandraIngerman                    1\n",
       "Narratedby:ChrisStewart                      1\n",
       "Name: narrator, Length: 29717, dtype: int64"
      ]
     },
     "execution_count": 6,
     "metadata": {},
     "output_type": "execute_result"
    }
   ],
   "source": [
    "audibleTabla.narrator.value_counts()"
   ]
  },
  {
   "cell_type": "code",
   "execution_count": 7,
   "metadata": {},
   "outputs": [
    {
     "data": {
      "text/plain": [
       "2 mins                372\n",
       "6 mins                369\n",
       "5 mins                369\n",
       "7 mins                356\n",
       "4 mins                347\n",
       "                     ... \n",
       "32 hrs and 16 mins      1\n",
       "41 hrs and 16 mins      1\n",
       "35 hrs and 48 mins      1\n",
       "30 hrs and 15 mins      1\n",
       "24 hrs and 4 mins       1\n",
       "Name: time, Length: 2284, dtype: int64"
      ]
     },
     "execution_count": 7,
     "metadata": {},
     "output_type": "execute_result"
    }
   ],
   "source": [
    "audibleTabla.time.value_counts()"
   ]
  },
  {
   "cell_type": "code",
   "execution_count": 8,
   "metadata": {},
   "outputs": [
    {
     "data": {
      "text/plain": [
       "English             61884\n",
       "german               8295\n",
       "spanish              3496\n",
       "japanese             3167\n",
       "italian              2694\n",
       "french               2386\n",
       "russian              1804\n",
       "danish                935\n",
       "portuguese            526\n",
       "swedish               515\n",
       "Hindi                 436\n",
       "polish                224\n",
       "finnish               197\n",
       "dutch                 190\n",
       "tamil                 161\n",
       "catalan               153\n",
       "mandarin_chinese       97\n",
       "icelandic              52\n",
       "romanian               50\n",
       "hungarian              36\n",
       "urdu                   34\n",
       "afrikaans              28\n",
       "czech                  23\n",
       "turkish                20\n",
       "greek                  18\n",
       "arabic                 16\n",
       "norwegian              16\n",
       "galician               10\n",
       "bulgarian               9\n",
       "korean                  4\n",
       "slovene                 4\n",
       "hebrew                  2\n",
       "basque                  2\n",
       "telugu                  2\n",
       "lithuanian              2\n",
       "ukrainian               1\n",
       "Name: language, dtype: int64"
      ]
     },
     "execution_count": 8,
     "metadata": {},
     "output_type": "execute_result"
    }
   ],
   "source": [
    "audibleTabla.language.value_counts()"
   ]
  },
  {
   "cell_type": "code",
   "execution_count": 9,
   "metadata": {},
   "outputs": [
    {
     "data": {
      "text/plain": [
       "Not rated yet                    72417\n",
       "5 out of 5 stars1 rating          3739\n",
       "4 out of 5 stars1 rating          1254\n",
       "5 out of 5 stars2 ratings          998\n",
       "4.5 out of 5 stars2 ratings        661\n",
       "                                 ...  \n",
       "3.5 out of 5 stars61 ratings         1\n",
       "5 out of 5 stars321 ratings          1\n",
       "5 out of 5 stars93 ratings           1\n",
       "4.5 out of 5 stars747 ratings        1\n",
       "4 out of 5 stars76 ratings           1\n",
       "Name: stars, Length: 665, dtype: int64"
      ]
     },
     "execution_count": 9,
     "metadata": {},
     "output_type": "execute_result"
    }
   ],
   "source": [
    "audibleTabla.stars.value_counts()"
   ]
  },
  {
   "cell_type": "code",
   "execution_count": 10,
   "metadata": {},
   "outputs": [
    {
     "data": {
      "text/plain": [
       "586.00      5533\n",
       "668.00      4262\n",
       "703.00      3588\n",
       "836.00      2704\n",
       "820.00      2458\n",
       "            ... \n",
       "2,631.00       1\n",
       "2,764.00       1\n",
       "895.00         1\n",
       "364.00         1\n",
       "544.00         1\n",
       "Name: price, Length: 1011, dtype: int64"
      ]
     },
     "execution_count": 10,
     "metadata": {},
     "output_type": "execute_result"
    }
   ],
   "source": [
    "audibleTabla.price.value_counts()"
   ]
  },
  {
   "cell_type": "markdown",
   "metadata": {},
   "source": [
    "# Transformación de columnas"
   ]
  },
  {
   "cell_type": "markdown",
   "metadata": {},
   "source": [
    "Se identifica que la columna \"author\" contiene un listado de autores por audible, se realiza la separación de los nombres, finalmente estos se almacenan en un nuevo dataframe."
   ]
  },
  {
   "cell_type": "code",
   "execution_count": 11,
   "metadata": {},
   "outputs": [],
   "source": [
    "for i in audibleTabla.index:\n",
    "    for autor in audibleTabla.author[i].split('Writtenby:')[1].split(','):\n",
    "        nombreAutoresPorAudibleLista.append(autor)\n",
    "        indexAudible.append(i)\n",
    "\n",
    "autoresPorAudibleTabla=pd.DataFrame(zip(indexAudible,nombreAutoresPorAudibleLista),columns=['indexAudible','nombreAutor'])"
   ]
  },
  {
   "cell_type": "markdown",
   "metadata": {},
   "source": [
    "Se identifica que la columna \"narrator\" contiene un listado de narradores por audible, se realiza la separación de los nombres, finalmente estos se almacenan en un nuevo dataframe."
   ]
  },
  {
   "cell_type": "code",
   "execution_count": 12,
   "metadata": {},
   "outputs": [],
   "source": [
    "for i in audibleTabla.index:\n",
    "    for narrador in audibleTabla.narrator[i].split('Narratedby:')[1].split(','):\n",
    "        nombreNarradoresPorAudibleLista.append(narrador)\n",
    "        indexAudible.append(i)\n",
    "\n",
    "narradorPorAudibleTabla=pd.DataFrame(zip(indexAudible,nombreNarradoresPorAudibleLista),columns=['idAudible','nombreNarrador'])"
   ]
  },
  {
   "cell_type": "markdown",
   "metadata": {},
   "source": [
    "Se identifica que la columna \"time\" contiene la duracion del audible como un texto, se convierte a un formato apropiado a su naturaleza y se asigna este nuevo formato a una columna adicional."
   ]
  },
  {
   "cell_type": "code",
   "execution_count": 13,
   "metadata": {},
   "outputs": [],
   "source": [
    "for i in audibleTabla.index:\n",
    "    singularDuracion=audibleTabla.time[i].replace('s','')\n",
    "    if re.match('(\\d+)\\s*hr\\s*and\\s*(\\d+)\\s*min',singularDuracion)!=None:\n",
    "        m=re.match('(\\d+)\\s*hr\\s*and\\s*(\\d+)\\s*min',singularDuracion)\n",
    "        duracionPorAudibleLista.append(pd.Timedelta(hours=int(m.group(1)),minutes=int(m.group(2))))\n",
    "    elif re.match('(\\d+)\\s*min',singularDuracion)!=None:\n",
    "        m=re.match('(\\d+)\\s*min',singularDuracion)\n",
    "        duracionPorAudibleLista.append(pd.Timedelta(minutes=int(m.group(1))))\n",
    "    elif re.match('(\\d+)\\s*hr',singularDuracion)!=None:\n",
    "        m=re.match('(\\d+)\\s*hr',singularDuracion)\n",
    "        duracionPorAudibleLista.append(pd.Timedelta(hours=int(m.group(1))))\n",
    "    elif singularDuracion=='Le than 1 minute':\n",
    "        duracionPorAudibleLista.append(pd.Timedelta(seconds=59))\n",
    "        \n",
    "audibleTabla['duracion']=duracionPorAudibleLista"
   ]
  },
  {
   "cell_type": "markdown",
   "metadata": {},
   "source": [
    "Se identifica que la columna \"dateRelease\" contiene la fecha de lanzamiento del audible como un texto, se convierte a un formato apropiado a su naturaleza y se asigna este nuevo formato a una columna adicional."
   ]
  },
  {
   "cell_type": "code",
   "execution_count": 14,
   "metadata": {},
   "outputs": [],
   "source": [
    "audibleTabla['fechaLanzamiento']=pd.to_datetime(audibleTabla.releasedate)"
   ]
  },
  {
   "cell_type": "markdown",
   "metadata": {},
   "source": [
    "Se identifica que la columna \"stars\" contiene la cantidad de estrellas calificadas por audible y tambien la cantidad de evaluaciones realizadas, se realiza la separación entre las estrellas calificadas y el total de calificaciones realizadas, finalmente cada una de estas variables se almacenan en una nueva columna independiente."
   ]
  },
  {
   "cell_type": "code",
   "execution_count": 15,
   "metadata": {},
   "outputs": [],
   "source": [
    "for i in audibleTabla.index:\n",
    "    singularEstrellas=audibleTabla.stars[i].replace('ratings','rating')\n",
    "    if re.match('(\\d+(\\.\\d+)?)\\s*out of\\s*5\\s*stars(\\d+)\\s*rating',singularEstrellas)!=None:\n",
    "        m=re.match('(\\d+(\\.\\d+)?)\\s*out of\\s*5\\s*stars(\\d+)\\s*rating',singularEstrellas)\n",
    "        estrellasCalificadasPorAudibleLista.append(float(m.group(1)))\n",
    "        cantidadCalificacionesPorAudibleLista.append(float(m.group(3)))\n",
    "    elif re.match('(\\d+(\\.\\d+)?)\\s*out of\\s*5\\s*stars([\\d,]+)\\s*rating',singularEstrellas)!=None:\n",
    "        m=re.match('(\\d+(\\.\\d+)?)\\s*out of\\s*5\\s*stars([\\d,]+)\\s*rating',singularEstrellas)\n",
    "        estrellasCalificadasPorAudibleLista.append(float(m.group(1)))\n",
    "        cantidadCalificacionesPorAudibleLista.append(float(m.group(3).replace(',','')))\n",
    "    elif singularEstrellas=='Not rated yet':\n",
    "        estrellasCalificadasPorAudibleLista.append(np.nan)\n",
    "        cantidadCalificacionesPorAudibleLista.append(np.nan)\n",
    "\n",
    "audibleTabla['estrellasCalificadas']=estrellasCalificadasPorAudibleLista\n",
    "audibleTabla['cantidadCalificaciones']=cantidadCalificacionesPorAudibleLista"
   ]
  },
  {
   "cell_type": "markdown",
   "metadata": {},
   "source": [
    "Se identifica que la columna precio es del tipo texto, se realiza el ajuste al tipo numerico"
   ]
  },
  {
   "cell_type": "code",
   "execution_count": 16,
   "metadata": {},
   "outputs": [],
   "source": [
    "audibleTabla.price=audibleTabla.price.apply(lambda x: x.replace('Free','0'))\n",
    "audibleTabla.price=audibleTabla.price.apply(lambda x: x.replace(',',''))\n",
    "audibleTabla.price=audibleTabla.price.astype(float)"
   ]
  },
  {
   "cell_type": "markdown",
   "metadata": {},
   "source": [
    "# Validación de cambios"
   ]
  },
  {
   "cell_type": "code",
   "execution_count": 17,
   "metadata": {},
   "outputs": [],
   "source": [
    "audibleLimpioTabla=audibleTabla[['name', 'language', 'price','duracion','fechaLanzamiento','estrellasCalificadas','cantidadCalificaciones']].rename(columns={'name':'nombreAudible', 'language':'idioma', 'price':'precio'})"
   ]
  },
  {
   "cell_type": "code",
   "execution_count": 18,
   "metadata": {},
   "outputs": [
    {
     "name": "stdout",
     "output_type": "stream",
     "text": [
      "<class 'pandas.core.frame.DataFrame'>\n",
      "RangeIndex: 87489 entries, 0 to 87488\n",
      "Data columns (total 7 columns):\n",
      " #   Column                  Non-Null Count  Dtype          \n",
      "---  ------                  --------------  -----          \n",
      " 0   nombreAudible           87489 non-null  object         \n",
      " 1   idioma                  87489 non-null  object         \n",
      " 2   precio                  87489 non-null  float64        \n",
      " 3   duracion                87489 non-null  timedelta64[ns]\n",
      " 4   fechaLanzamiento        87489 non-null  datetime64[ns] \n",
      " 5   estrellasCalificadas    15072 non-null  float64        \n",
      " 6   cantidadCalificaciones  15072 non-null  float64        \n",
      "dtypes: datetime64[ns](1), float64(3), object(2), timedelta64[ns](1)\n",
      "memory usage: 4.7+ MB\n"
     ]
    }
   ],
   "source": [
    "audibleLimpioTabla.info()"
   ]
  },
  {
   "cell_type": "code",
   "execution_count": 19,
   "metadata": {},
   "outputs": [
    {
     "data": {
      "text/plain": [
       "<AxesSubplot:>"
      ]
     },
     "execution_count": 19,
     "metadata": {},
     "output_type": "execute_result"
    },
    {
     "data": {
      "image/png": "[encoded data removed]",
      "text/plain": [
       "<Figure size 432x288 with 1 Axes>"
      ]
     },
     "metadata": {
      "needs_background": "light"
     },
     "output_type": "display_data"
    }
   ],
   "source": [
    "audibleLimpioTabla.precio.hist()"
   ]
  },
  {
   "cell_type": "code",
   "execution_count": 20,
   "metadata": {},
   "outputs": [
    {
     "data": {
      "text/plain": [
       "count                        87489\n",
       "mean     0 days 06:57:29.859056567\n",
       "std      0 days 06:04:33.564741294\n",
       "min                0 days 00:00:59\n",
       "25%                0 days 02:22:00\n",
       "50%                0 days 06:26:00\n",
       "75%                0 days 09:44:00\n",
       "max                5 days 23:15:00\n",
       "Name: duracion, dtype: object"
      ]
     },
     "execution_count": 20,
     "metadata": {},
     "output_type": "execute_result"
    }
   ],
   "source": [
    "audibleLimpioTabla.duracion.describe()"
   ]
  },
  {
   "cell_type": "code",
   "execution_count": 21,
   "metadata": {},
   "outputs": [
    {
     "data": {
      "text/plain": [
       "<AxesSubplot:>"
      ]
     },
     "execution_count": 21,
     "metadata": {},
     "output_type": "execute_result"
    },
    {
     "data": {
      "image/png": "[encoded data removed]",
      "text/plain": [
       "<Figure size 432x288 with 1 Axes>"
      ]
     },
     "metadata": {
      "needs_background": "light"
     },
     "output_type": "display_data"
    }
   ],
   "source": [
    "audibleLimpioTabla.fechaLanzamiento.dt.year.value_counts().sort_index().to_frame().plot.line()"
   ]
  },
  {
   "cell_type": "code",
   "execution_count": 22,
   "metadata": {},
   "outputs": [
    {
     "data": {
      "text/html": [
       "<div>\n",
       "<style scoped>\n",
       "    .dataframe tbody tr th:only-of-type {\n",
       "        vertical-align: middle;\n",
       "    }\n",
       "\n",
       "    .dataframe tbody tr th {\n",
       "        vertical-align: top;\n",
       "    }\n",
       "\n",
       "    .dataframe thead th {\n",
       "        text-align: right;\n",
       "    }\n",
       "</style>\n",
       "<table border=\"1\" class=\"dataframe\">\n",
       "  <thead>\n",
       "    <tr style=\"text-align: right;\">\n",
       "      <th></th>\n",
       "      <th>estrellasCalificadas</th>\n",
       "      <th>cantidadCalificaciones</th>\n",
       "    </tr>\n",
       "  </thead>\n",
       "  <tbody>\n",
       "    <tr>\n",
       "      <th>count</th>\n",
       "      <td>15072.00000</td>\n",
       "      <td>15072.000000</td>\n",
       "    </tr>\n",
       "    <tr>\n",
       "      <th>mean</th>\n",
       "      <td>4.45694</td>\n",
       "      <td>21.613190</td>\n",
       "    </tr>\n",
       "    <tr>\n",
       "      <th>std</th>\n",
       "      <td>0.72394</td>\n",
       "      <td>207.479634</td>\n",
       "    </tr>\n",
       "    <tr>\n",
       "      <th>min</th>\n",
       "      <td>1.00000</td>\n",
       "      <td>1.000000</td>\n",
       "    </tr>\n",
       "    <tr>\n",
       "      <th>25%</th>\n",
       "      <td>4.00000</td>\n",
       "      <td>1.000000</td>\n",
       "    </tr>\n",
       "    <tr>\n",
       "      <th>50%</th>\n",
       "      <td>4.50000</td>\n",
       "      <td>2.000000</td>\n",
       "    </tr>\n",
       "    <tr>\n",
       "      <th>75%</th>\n",
       "      <td>5.00000</td>\n",
       "      <td>7.000000</td>\n",
       "    </tr>\n",
       "    <tr>\n",
       "      <th>max</th>\n",
       "      <td>5.00000</td>\n",
       "      <td>12573.000000</td>\n",
       "    </tr>\n",
       "  </tbody>\n",
       "</table>\n",
       "</div>"
      ],
      "text/plain": [
       "       estrellasCalificadas  cantidadCalificaciones\n",
       "count           15072.00000            15072.000000\n",
       "mean                4.45694               21.613190\n",
       "std                 0.72394              207.479634\n",
       "min                 1.00000                1.000000\n",
       "25%                 4.00000                1.000000\n",
       "50%                 4.50000                2.000000\n",
       "75%                 5.00000                7.000000\n",
       "max                 5.00000            12573.000000"
      ]
     },
     "execution_count": 22,
     "metadata": {},
     "output_type": "execute_result"
    }
   ],
   "source": [
    "audibleLimpioTabla[['estrellasCalificadas','cantidadCalificaciones']].describe()"
   ]
  },
  {
   "cell_type": "code",
   "execution_count": 23,
   "metadata": {},
   "outputs": [
    {
     "data": {
      "text/plain": [
       "<AxesSubplot:xlabel='estrellasCalificadas', ylabel='cantidadCalificaciones'>"
      ]
     },
     "execution_count": 23,
     "metadata": {},
     "output_type": "execute_result"
    },
    {
     "data": {
      "image/png": "[encoded data removed]",
      "text/plain": [
       "<Figure size 432x288 with 1 Axes>"
      ]
     },
     "metadata": {
      "needs_background": "light"
     },
     "output_type": "display_data"
    }
   ],
   "source": [
    "audibleLimpioTabla.plot.scatter(x='estrellasCalificadas',y='cantidadCalificaciones')"
   ]
  }
 ],
 "metadata": {
  "kernelspec": {
   "display_name": "Python 3",
   "language": "python",
   "name": "python3"
  },
  "language_info": {
   "codemirror_mode": {
    "name": "ipython",
    "version": 3
   },
   "file_extension": ".py",
   "mimetype": "text/x-python",
   "name": "python",
   "nbconvert_exporter": "python",
   "pygments_lexer": "ipython3",
   "version": "3.9.6"
  }
 },
 "nbformat": 4,
 "nbformat_minor": 2
}

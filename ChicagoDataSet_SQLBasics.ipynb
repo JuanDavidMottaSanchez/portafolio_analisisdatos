{
    "metadata": {
        "kernelspec": {
            "name": "SQL",
            "display_name": "SQL",
            "language": "sql"
        },
        "language_info": {
            "name": "sql",
            "version": ""
        }
    },
    "nbformat_minor": 2,
    "nbformat": 4,
    "cells": [
        {
            "cell_type": "markdown",
            "source": [
                "Basado en el reto de <span style=\"color: rgb(128, 0, 0); font-weight: bold; background-color: rgb(255, 255, 255); font-family: Consolas, &quot;Courier New&quot;, monospace; white-space: pre;\">IBM Corporation en el curso </span> <span style=\"background-color: rgb(255, 255, 255); color: rgb(69, 69, 69); font-family: Inter, &quot;Helvetica Neue&quot;, Arial, sans-serif; font-size: 18px; font-weight: 700; text-wrap: nowrap;\">SQL for Data Science</span>\n",
                "\n",
                "Datasets Usados:\n",
                "\n",
                "<span style=\"color: #0451a5;\">1.</span>  <span style=\"background-color: rgb(255, 255, 255); color: rgb(0, 0, 0); font-family: Consolas, &quot;Courier New&quot;, monospace; white-space: pre;\">Socioeconomic Indicators in Chicago</span><span style=\"color: var(--vscode-foreground);\">=</span><span style=\"color: rgb(0, 0, 255);\">\"<a href=\"https://data.cityofchicago.org/Health-Human-Services/Census-Data-Selected-socioeconomic-indicators-in-C/kn9c-c2s2?utm_medium=Exinfluencer&amp;utm_source=Exinfluencer&amp;utm_content=000026UJ&amp;utm_term=10006555&amp;utm_id=NA-SkillsNetwork-Channel-SkillsNetworkCoursesIBMDeveloperSkillsNetworkDB0201ENSkillsNetwork20127838-2021-01-01&amp;quot;\" data-href=\"https://data.cityofchicago.org/Health-Human-Services/Census-Data-Selected-socioeconomic-indicators-in-C/kn9c-c2s2?utm_medium=Exinfluencer&amp;utm_source=Exinfluencer&amp;utm_content=000026UJ&amp;utm_term=10006555&amp;utm_id=NA-SkillsNetwork-Channel-SkillsNetworkCoursesIBMDeveloperSkillsNetworkDB0201ENSkillsNetwork20127838-2021-01-01&amp;quot;\" title=\"https://data.cityofchicago.org/Health-Human-Services/Census-Data-Selected-socioeconomic-indicators-in-C/kn9c-c2s2?utm_medium=Exinfluencer&amp;utm_source=Exinfluencer&amp;utm_content=000026UJ&amp;utm_term=10006555&amp;utm_id=NA-SkillsNetwork-Channel-SkillsNetworkCoursesIBMDeveloperSkillsNetworkDB0201ENSkillsNetwork20127838-2021-01-01&amp;quot;\" is-markdown=\"true\" is-absolute=\"false\">https://data.cityofchicago.org/Health-Human-Services/Census-Data-Selected-socioeconomic-indicators-in-C/kn9c-c2s2?utm_medium=Exinfluencer&amp;utm_source=Exinfluencer&amp;utm_content=000026UJ&amp;utm_term=10006555&amp;utm_id=NA-SkillsNetwork-Channel-SkillsNetworkCoursesIBMDeveloperSkillsNetworkDB0201ENSkillsNetwork20127838-2021-01-01\"</a></span>\n",
                "\n",
                "<span style=\"color: #0451a5;\">2.</span>  <span style=\"background-color: rgb(255, 255, 255); color: rgb(0, 0, 0); font-family: Consolas, &quot;Courier New&quot;, monospace; white-space: pre;\">Chicago Public Schools</span><span style=\"color: var(--vscode-foreground);\">=</span><span style=\"color: rgb(0, 0, 255);\">\"<a href=\"https://data.cityofchicago.org/Education/Chicago-Public-Schools-Progress-Report-Cards-2011-/9xs2-f89t?utm_medium=Exinfluencer&amp;utm_source=Exinfluencer&amp;utm_content=000026UJ&amp;utm_term=10006555&amp;utm_id=NA-SkillsNetwork-Channel-SkillsNetworkCoursesIBMDeveloperSkillsNetworkDB0201ENSkillsNetwork20127838-2021-01-01&amp;quot;\" data-href=\"https://data.cityofchicago.org/Education/Chicago-Public-Schools-Progress-Report-Cards-2011-/9xs2-f89t?utm_medium=Exinfluencer&amp;utm_source=Exinfluencer&amp;utm_content=000026UJ&amp;utm_term=10006555&amp;utm_id=NA-SkillsNetwork-Channel-SkillsNetworkCoursesIBMDeveloperSkillsNetworkDB0201ENSkillsNetwork20127838-2021-01-01&amp;quot;\" title=\"https://data.cityofchicago.org/Education/Chicago-Public-Schools-Progress-Report-Cards-2011-/9xs2-f89t?utm_medium=Exinfluencer&amp;utm_source=Exinfluencer&amp;utm_content=000026UJ&amp;utm_term=10006555&amp;utm_id=NA-SkillsNetwork-Channel-SkillsNetworkCoursesIBMDeveloperSkillsNetworkDB0201ENSkillsNetwork20127838-2021-01-01&amp;quot;\" is-markdown=\"true\" is-absolute=\"false\">https://data.cityofchicago.org/Education/Chicago-Public-Schools-Progress-Report-Cards-2011-/9xs2-f89t?utm_medium=Exinfluencer&amp;utm_source=Exinfluencer&amp;utm_content=000026UJ&amp;utm_term=10006555&amp;utm_id=NA-SkillsNetwork-Channel-SkillsNetworkCoursesIBMDeveloperSkillsNetworkDB0201ENSkillsNetwork20127838-2021-01-01\"</a></span>\n",
                "\n",
                "<span style=\"color: #0451a5;\">3.</span>  <span style=\"background-color: rgb(255, 255, 255); color: rgb(0, 0, 0); font-family: Consolas, &quot;Courier New&quot;, monospace; white-space: pre;\">Chicago Crime Data</span><span style=\"color: var(--vscode-foreground);\">=</span><span style=\"color: rgb(0, 0, 255);\">\"<a href=\"https://data.cityofchicago.org/Public-Safety/Crimes-2001-to-present/ijzp-q8t2?utm_medium=Exinfluencer&amp;utm_source=Exinfluencer&amp;utm_content=000026UJ&amp;utm_term=10006555&amp;utm_id=NA-SkillsNetwork-Channel-SkillsNetworkCoursesIBMDeveloperSkillsNetworkDB0201ENSkillsNetwork20127838-2021-01-01&amp;quot;\" data-href=\"https://data.cityofchicago.org/Public-Safety/Crimes-2001-to-present/ijzp-q8t2?utm_medium=Exinfluencer&amp;utm_source=Exinfluencer&amp;utm_content=000026UJ&amp;utm_term=10006555&amp;utm_id=NA-SkillsNetwork-Channel-SkillsNetworkCoursesIBMDeveloperSkillsNetworkDB0201ENSkillsNetwork20127838-2021-01-01&amp;quot;\" title=\"https://data.cityofchicago.org/Public-Safety/Crimes-2001-to-present/ijzp-q8t2?utm_medium=Exinfluencer&amp;utm_source=Exinfluencer&amp;utm_content=000026UJ&amp;utm_term=10006555&amp;utm_id=NA-SkillsNetwork-Channel-SkillsNetworkCoursesIBMDeveloperSkillsNetworkDB0201ENSkillsNetwork20127838-2021-01-01&amp;quot;\" is-markdown=\"true\" is-absolute=\"false\">https://data.cityofchicago.org/Public-Safety/Crimes-2001-to-present/ijzp-q8t2?utm_medium=Exinfluencer&amp;utm_source=Exinfluencer&amp;utm_content=000026UJ&amp;utm_term=10006555&amp;utm_id=NA-SkillsNetwork-Channel-SkillsNetworkCoursesIBMDeveloperSkillsNetworkDB0201ENSkillsNetwork20127838-2021-01-01\"</a></span>"
            ],
            "metadata": {
                "azdata_cell_guid": "9735ae25-c9df-4ff8-8d9a-a2eae689c127"
            },
            "attachments": {}
        },
        {
            "cell_type": "markdown",
            "source": [
                "<span style=\"color: #800000;font-weight: bold;\">### Problem 1</span>\n",
                "\n",
                "  \n",
                "\n",
                "<span style=\"color: #800000;font-weight: bold;\">##### Find the total number of crimes recorded in the CRIME table.</span>"
            ],
            "metadata": {
                "azdata_cell_guid": "7d860d45-2896-41a1-91ef-8d692dddad9f"
            },
            "attachments": {}
        },
        {
            "cell_type": "code",
            "source": [
                "Select count(*) as TotalCrimenes\r\n",
                "FROM dbo.ChicagoCrimeData"
            ],
            "metadata": {
                "azdata_cell_guid": "bfeafc9f-89bb-4b5c-b932-f71050b890e9",
                "language": "sql"
            },
            "outputs": [
                {
                    "output_type": "display_data",
                    "data": {
                        "text/html": "(1 row affected)"
                    },
                    "metadata": {}
                },
                {
                    "output_type": "display_data",
                    "data": {
                        "text/html": "Total execution time: 00:00:00.022"
                    },
                    "metadata": {}
                },
                {
                    "output_type": "execute_result",
                    "execution_count": 2,
                    "data": {
                        "application/vnd.dataresource+json": {
                            "schema": {
                                "fields": [
                                    {
                                        "name": "TotalCrimenes"
                                    }
                                ]
                            },
                            "data": [
                                {
                                    "TotalCrimenes": "533"
                                }
                            ]
                        },
                        "text/html": "<table><tr><th>TotalCrimenes</th></tr><tr><td>533</td></tr></table>"
                    },
                    "metadata": {}
                }
            ],
            "execution_count": 2
        },
        {
            "cell_type": "markdown",
            "source": [
                "<span style=\"color: #800000;font-weight: bold;\">### Problem 2</span>\n",
                "\n",
                "  \n",
                "\n",
                "<span style=\"color: #800000;font-weight: bold;\">##### List community area names and numbers with per capita income less than 11000.</span>"
            ],
            "metadata": {
                "azdata_cell_guid": "07f1e5bd-0ce8-4174-8113-0c6b6e62e6dc"
            },
            "attachments": {}
        },
        {
            "cell_type": "code",
            "source": [
                "Select Community_area_number,Community_area_name\r\n",
                "from dbo.ChicagoCensusData\r\n",
                "where PER_CAPITA_INCOME<11000"
            ],
            "metadata": {
                "azdata_cell_guid": "d80246a4-03a7-409d-8bf6-3e4c7c81c927",
                "language": "sql"
            },
            "outputs": [
                {
                    "output_type": "display_data",
                    "data": {
                        "text/html": "(4 rows affected)"
                    },
                    "metadata": {}
                },
                {
                    "output_type": "display_data",
                    "data": {
                        "text/html": "Total execution time: 00:00:00.032"
                    },
                    "metadata": {}
                },
                {
                    "output_type": "execute_result",
                    "execution_count": 4,
                    "data": {
                        "application/vnd.dataresource+json": {
                            "schema": {
                                "fields": [
                                    {
                                        "name": "Community_area_number"
                                    },
                                    {
                                        "name": "Community_area_name"
                                    }
                                ]
                            },
                            "data": [
                                {
                                    "Community_area_number": "26",
                                    "Community_area_name": "West Garfield Park"
                                },
                                {
                                    "Community_area_number": "30",
                                    "Community_area_name": "South Lawndale"
                                },
                                {
                                    "Community_area_number": "37",
                                    "Community_area_name": "Fuller Park"
                                },
                                {
                                    "Community_area_number": "54",
                                    "Community_area_name": "Riverdale"
                                }
                            ]
                        },
                        "text/html": "<table><tr><th>Community_area_number</th><th>Community_area_name</th></tr><tr><td>26</td><td>West Garfield Park</td></tr><tr><td>30</td><td>South Lawndale</td></tr><tr><td>37</td><td>Fuller Park</td></tr><tr><td>54</td><td>Riverdale</td></tr></table>"
                    },
                    "metadata": {}
                }
            ],
            "execution_count": 4
        },
        {
            "cell_type": "markdown",
            "source": [
                "<span style=\"color: #800000;font-weight: bold;\">### Problem 3</span>\n",
                "\n",
                "  \n",
                "\n",
                "<span style=\"color: #800000;font-weight: bold;\">##### List all case numbers for crimes involving minors?(children are not considered minors for the purposes of crime analysis)</span>"
            ],
            "metadata": {
                "azdata_cell_guid": "a5da1988-6b60-4831-9c81-2c65ae9129ed"
            },
            "attachments": {}
        },
        {
            "cell_type": "code",
            "source": [
                "--SELECT CASE_NUMBER\r\n",
                "SELECT CASE_NUMBER\r\n",
                "from ChicagoCrimeData\r\n",
                "WHERE [DESCRIPTION] LIKE '%MINOR%'"
            ],
            "metadata": {
                "azdata_cell_guid": "2e2b90f0-596a-4df6-838e-4925e61d9e8f",
                "language": "sql"
            },
            "outputs": [
                {
                    "output_type": "display_data",
                    "data": {
                        "text/html": "(2 rows affected)"
                    },
                    "metadata": {}
                },
                {
                    "output_type": "display_data",
                    "data": {
                        "text/html": "Total execution time: 00:00:00.025"
                    },
                    "metadata": {}
                },
                {
                    "output_type": "execute_result",
                    "execution_count": 11,
                    "data": {
                        "application/vnd.dataresource+json": {
                            "schema": {
                                "fields": [
                                    {
                                        "name": "CASE_NUMBER"
                                    }
                                ]
                            },
                            "data": [
                                {
                                    "CASE_NUMBER": "HL266884"
                                },
                                {
                                    "CASE_NUMBER": "HK238408"
                                }
                            ]
                        },
                        "text/html": "<table><tr><th>CASE_NUMBER</th></tr><tr><td>HL266884</td></tr><tr><td>HK238408</td></tr></table>"
                    },
                    "metadata": {}
                }
            ],
            "execution_count": 11
        },
        {
            "cell_type": "markdown",
            "source": [
                "<span style=\"color: #800000;font-weight: bold;\">### Problem 4</span>\n",
                "\n",
                "  \n",
                "\n",
                "<span style=\"color: #800000;font-weight: bold;\">##### List all kidnapping crimes involving a child?</span>"
            ],
            "metadata": {
                "azdata_cell_guid": "e15ab568-0092-495c-a886-5ef5f604d6a9"
            },
            "attachments": {}
        },
        {
            "cell_type": "code",
            "source": [
                "--SELECT CASE_NUMBER\r\n",
                "SELECT *\r\n",
                "from ChicagoCrimeData\r\n",
                "WHERE PRIMARY_TYPE='KIDNAPPING' AND  [DESCRIPTION] LIKE '%child%'"
            ],
            "metadata": {
                "azdata_cell_guid": "c2fd6ba9-2aee-4320-af1b-817a67970802",
                "language": "sql"
            },
            "outputs": [
                {
                    "output_type": "display_data",
                    "data": {
                        "text/html": "(1 row affected)"
                    },
                    "metadata": {}
                },
                {
                    "output_type": "display_data",
                    "data": {
                        "text/html": "Total execution time: 00:00:00.031"
                    },
                    "metadata": {}
                },
                {
                    "output_type": "execute_result",
                    "execution_count": 14,
                    "data": {
                        "application/vnd.dataresource+json": {
                            "schema": {
                                "fields": [
                                    {
                                        "name": "ID"
                                    },
                                    {
                                        "name": "CASE_NUMBER"
                                    },
                                    {
                                        "name": "DATE"
                                    },
                                    {
                                        "name": "BLOCK"
                                    },
                                    {
                                        "name": "IUCR"
                                    },
                                    {
                                        "name": "PRIMARY_TYPE"
                                    },
                                    {
                                        "name": "DESCRIPTION"
                                    },
                                    {
                                        "name": "LOCATION_DESCRIPTION"
                                    },
                                    {
                                        "name": "ARREST"
                                    },
                                    {
                                        "name": "DOMESTIC"
                                    },
                                    {
                                        "name": "BEAT"
                                    },
                                    {
                                        "name": "DISTRICT"
                                    },
                                    {
                                        "name": "WARD"
                                    },
                                    {
                                        "name": "COMMUNITY_AREA_NUMBER"
                                    },
                                    {
                                        "name": "FBICODE"
                                    },
                                    {
                                        "name": "X_COORDINATE"
                                    },
                                    {
                                        "name": "Y_COORDINATE"
                                    },
                                    {
                                        "name": "YEAR"
                                    },
                                    {
                                        "name": "LATITUDE"
                                    },
                                    {
                                        "name": "LONGITUDE"
                                    },
                                    {
                                        "name": "LOCATION"
                                    }
                                ]
                            },
                            "data": [
                                {
                                    "ID": "5276766",
                                    "CASE_NUMBER": "HN144152",
                                    "DATE": "2007-01-26",
                                    "BLOCK": "050XX W VAN BUREN ST",
                                    "IUCR": "1792",
                                    "PRIMARY_TYPE": "KIDNAPPING",
                                    "DESCRIPTION": "CHILD ABDUCTION/STRANGER",
                                    "LOCATION_DESCRIPTION": "STREET",
                                    "ARREST": "0",
                                    "DOMESTIC": "0",
                                    "BEAT": "1533",
                                    "DISTRICT": "15",
                                    "WARD": "29",
                                    "COMMUNITY_AREA_NUMBER": "25",
                                    "FBICODE": "20",
                                    "X_COORDINATE": "1143050",
                                    "Y_COORDINATE": "1897546",
                                    "YEAR": "2007",
                                    "LATITUDE": "41.874908447265625",
                                    "LONGITUDE": "-87.75025177001953",
                                    "LOCATION": "(41.874908413, -87.750249307)"
                                }
                            ]
                        },
                        "text/html": "<table><tr><th>ID</th><th>CASE_NUMBER</th><th>DATE</th><th>BLOCK</th><th>IUCR</th><th>PRIMARY_TYPE</th><th>DESCRIPTION</th><th>LOCATION_DESCRIPTION</th><th>ARREST</th><th>DOMESTIC</th><th>BEAT</th><th>DISTRICT</th><th>WARD</th><th>COMMUNITY_AREA_NUMBER</th><th>FBICODE</th><th>X_COORDINATE</th><th>Y_COORDINATE</th><th>YEAR</th><th>LATITUDE</th><th>LONGITUDE</th><th>LOCATION</th></tr><tr><td>5276766</td><td>HN144152</td><td>2007-01-26</td><td>050XX W VAN BUREN ST</td><td>1792</td><td>KIDNAPPING</td><td>CHILD ABDUCTION/STRANGER</td><td>STREET</td><td>0</td><td>0</td><td>1533</td><td>15</td><td>29</td><td>25</td><td>20</td><td>1143050</td><td>1897546</td><td>2007</td><td>41.874908447265625</td><td>-87.75025177001953</td><td>(41.874908413, -87.750249307)</td></tr></table>"
                    },
                    "metadata": {}
                }
            ],
            "execution_count": 14
        },
        {
            "cell_type": "markdown",
            "source": [
                "<span style=\"color: #800000;font-weight: bold;\">### Problem 5</span>\n",
                "\n",
                "  \n",
                "\n",
                "<span style=\"color: #800000;font-weight: bold;\">##### List the kind of crimes that were recorded at schools. (No repetitions)</span>"
            ],
            "metadata": {
                "azdata_cell_guid": "284baa6b-0d97-4eb8-829d-a7ef7e565484"
            },
            "attachments": {}
        },
        {
            "cell_type": "code",
            "source": [
                "Select distinct PRIMARY_TYPE\r\n",
                "from ChicagoCrimeData as ccd \r\n",
                "inner join ChicagoPublicSchools as cps on cps.COMMUNITY_AREA_NUMBER=ccd.COMMUNITY_AREA_NUMBER and cps.Ward=ccd.WARD"
            ],
            "metadata": {
                "azdata_cell_guid": "5e725e87-9086-4069-95dc-397da2fecf9c",
                "language": "sql",
                "tags": []
            },
            "outputs": [
                {
                    "output_type": "display_data",
                    "data": {
                        "text/html": "(34 rows affected)"
                    },
                    "metadata": {}
                },
                {
                    "output_type": "display_data",
                    "data": {
                        "text/html": "Total execution time: 00:00:00.040"
                    },
                    "metadata": {}
                },
                {
                    "output_type": "execute_result",
                    "execution_count": 20,
                    "data": {
                        "application/vnd.dataresource+json": {
                            "schema": {
                                "fields": [
                                    {
                                        "name": "PRIMARY_TYPE"
                                    }
                                ]
                            },
                            "data": [
                                {
                                    "PRIMARY_TYPE": "ARSON"
                                },
                                {
                                    "PRIMARY_TYPE": "ASSAULT"
                                },
                                {
                                    "PRIMARY_TYPE": "BATTERY"
                                },
                                {
                                    "PRIMARY_TYPE": "BURGLARY"
                                },
                                {
                                    "PRIMARY_TYPE": "CONCEALED CARRY LICENSE VIOLATION"
                                },
                                {
                                    "PRIMARY_TYPE": "CRIM SEXUAL ASSAULT"
                                },
                                {
                                    "PRIMARY_TYPE": "CRIMINAL DAMAGE"
                                },
                                {
                                    "PRIMARY_TYPE": "CRIMINAL TRESPASS"
                                },
                                {
                                    "PRIMARY_TYPE": "DECEPTIVE PRACTICE"
                                },
                                {
                                    "PRIMARY_TYPE": "GAMBLING"
                                },
                                {
                                    "PRIMARY_TYPE": "HOMICIDE"
                                },
                                {
                                    "PRIMARY_TYPE": "HUMAN TRAFFICKING"
                                },
                                {
                                    "PRIMARY_TYPE": "INTERFERENCE WITH PUBLIC OFFICER"
                                },
                                {
                                    "PRIMARY_TYPE": "INTIMIDATION"
                                },
                                {
                                    "PRIMARY_TYPE": "KIDNAPPING"
                                },
                                {
                                    "PRIMARY_TYPE": "LIQUOR LAW VIOLATION"
                                },
                                {
                                    "PRIMARY_TYPE": "MOTOR VEHICLE THEFT"
                                },
                                {
                                    "PRIMARY_TYPE": "NARCOTICS"
                                },
                                {
                                    "PRIMARY_TYPE": "NON - CRIMINAL"
                                },
                                {
                                    "PRIMARY_TYPE": "NON-CRIMINAL"
                                },
                                {
                                    "PRIMARY_TYPE": "NON-CRIMINAL (SUBJECT SPECIFIED)"
                                },
                                {
                                    "PRIMARY_TYPE": "OBSCENITY"
                                },
                                {
                                    "PRIMARY_TYPE": "OFFENSE INVOLVING CHILDREN"
                                },
                                {
                                    "PRIMARY_TYPE": "OTHER NARCOTIC VIOLATION"
                                },
                                {
                                    "PRIMARY_TYPE": "OTHER OFFENSE"
                                },
                                {
                                    "PRIMARY_TYPE": "PROSTITUTION"
                                },
                                {
                                    "PRIMARY_TYPE": "PUBLIC INDECENCY"
                                },
                                {
                                    "PRIMARY_TYPE": "PUBLIC PEACE VIOLATION"
                                },
                                {
                                    "PRIMARY_TYPE": "RITUALISM"
                                },
                                {
                                    "PRIMARY_TYPE": "ROBBERY"
                                },
                                {
                                    "PRIMARY_TYPE": "SEX OFFENSE"
                                },
                                {
                                    "PRIMARY_TYPE": "STALKING"
                                },
                                {
                                    "PRIMARY_TYPE": "THEFT"
                                },
                                {
                                    "PRIMARY_TYPE": "WEAPONS VIOLATION"
                                }
                            ]
                        },
                        "text/html": "<table><tr><th>PRIMARY_TYPE</th></tr><tr><td>ARSON</td></tr><tr><td>ASSAULT</td></tr><tr><td>BATTERY</td></tr><tr><td>BURGLARY</td></tr><tr><td>CONCEALED CARRY LICENSE VIOLATION</td></tr><tr><td>CRIM SEXUAL ASSAULT</td></tr><tr><td>CRIMINAL DAMAGE</td></tr><tr><td>CRIMINAL TRESPASS</td></tr><tr><td>DECEPTIVE PRACTICE</td></tr><tr><td>GAMBLING</td></tr><tr><td>HOMICIDE</td></tr><tr><td>HUMAN TRAFFICKING</td></tr><tr><td>INTERFERENCE WITH PUBLIC OFFICER</td></tr><tr><td>INTIMIDATION</td></tr><tr><td>KIDNAPPING</td></tr><tr><td>LIQUOR LAW VIOLATION</td></tr><tr><td>MOTOR VEHICLE THEFT</td></tr><tr><td>NARCOTICS</td></tr><tr><td>NON - CRIMINAL</td></tr><tr><td>NON-CRIMINAL</td></tr><tr><td>NON-CRIMINAL (SUBJECT SPECIFIED)</td></tr><tr><td>OBSCENITY</td></tr><tr><td>OFFENSE INVOLVING CHILDREN</td></tr><tr><td>OTHER NARCOTIC VIOLATION</td></tr><tr><td>OTHER OFFENSE</td></tr><tr><td>PROSTITUTION</td></tr><tr><td>PUBLIC INDECENCY</td></tr><tr><td>PUBLIC PEACE VIOLATION</td></tr><tr><td>RITUALISM</td></tr><tr><td>ROBBERY</td></tr><tr><td>SEX OFFENSE</td></tr><tr><td>STALKING</td></tr><tr><td>THEFT</td></tr><tr><td>WEAPONS VIOLATION</td></tr></table>"
                    },
                    "metadata": {}
                }
            ],
            "execution_count": 20
        },
        {
            "cell_type": "markdown",
            "source": [
                "<span style=\"color: #800000;font-weight: bold;\">### Problem 6</span>\n",
                "\n",
                "  \n",
                "\n",
                "<span style=\"color: #800000;font-weight: bold;\">##### List the type of schools along with the average safety score for each type.</span>"
            ],
            "metadata": {
                "azdata_cell_guid": "0fee69b9-06b4-42b7-b97d-a2a7cc16a16b"
            },
            "attachments": {}
        },
        {
            "cell_type": "code",
            "source": [
                "SELECT Elementar_Middle_or_High_School,AVG(SAFETY_SCORE) as AvgSafetyScore\r\n",
                "FROM ChicagoPublicSchools\r\n",
                "GROUP by Elementar_Middle_or_High_School"
            ],
            "metadata": {
                "azdata_cell_guid": "67bb2b1e-5523-484a-a660-1e6d38cc3f6e",
                "language": "sql"
            },
            "outputs": [
                {
                    "output_type": "display_data",
                    "data": {
                        "text/html": "Warning: Null value is eliminated by an aggregate or other SET operation."
                    },
                    "metadata": {}
                },
                {
                    "output_type": "display_data",
                    "data": {
                        "text/html": "(3 rows affected)"
                    },
                    "metadata": {}
                },
                {
                    "output_type": "display_data",
                    "data": {
                        "text/html": "Total execution time: 00:00:00.013"
                    },
                    "metadata": {}
                },
                {
                    "output_type": "execute_result",
                    "execution_count": 22,
                    "data": {
                        "application/vnd.dataresource+json": {
                            "schema": {
                                "fields": [
                                    {
                                        "name": "Elementar_Middle_or_High_School"
                                    },
                                    {
                                        "name": "AvgSafetyScore"
                                    }
                                ]
                            },
                            "data": [
                                {
                                    "Elementar_Middle_or_High_School": "ES",
                                    "AvgSafetyScore": "49"
                                },
                                {
                                    "Elementar_Middle_or_High_School": "HS",
                                    "AvgSafetyScore": "49"
                                },
                                {
                                    "Elementar_Middle_or_High_School": "MS",
                                    "AvgSafetyScore": "48"
                                }
                            ]
                        },
                        "text/html": "<table><tr><th>Elementar_Middle_or_High_School</th><th>AvgSafetyScore</th></tr><tr><td>ES</td><td>49</td></tr><tr><td>HS</td><td>49</td></tr><tr><td>MS</td><td>48</td></tr></table>"
                    },
                    "metadata": {}
                }
            ],
            "execution_count": 22
        },
        {
            "cell_type": "markdown",
            "source": [
                "<span style=\"color: #800000;font-weight: bold;\">### Problem 7</span>\n",
                "\n",
                "  \n",
                "\n",
                "<span style=\"color: #800000;font-weight: bold;\">##### List 5 community areas with highest % of households below poverty line</span>"
            ],
            "metadata": {
                "azdata_cell_guid": "04a25cb7-46fb-4d15-82a8-79fea996f119"
            },
            "attachments": {}
        },
        {
            "cell_type": "code",
            "source": [
                "SELECT top 5 Community_area_name,parse(percent_households_below_poverty as float) AS 'highest households below poverty line'\r\n",
                "from ChicagoCensusData\r\n",
                "order by parse(percent_households_below_poverty as float) DESC"
            ],
            "metadata": {
                "azdata_cell_guid": "9781db6e-c594-4d76-ae2a-d6069efae282",
                "language": "sql"
            },
            "outputs": [
                {
                    "output_type": "display_data",
                    "data": {
                        "text/html": "(5 rows affected)"
                    },
                    "metadata": {}
                },
                {
                    "output_type": "display_data",
                    "data": {
                        "text/html": "Total execution time: 00:00:00.879"
                    },
                    "metadata": {}
                },
                {
                    "output_type": "execute_result",
                    "metadata": {},
                    "execution_count": 48,
                    "data": {
                        "application/vnd.dataresource+json": {
                            "schema": {
                                "fields": [
                                    {
                                        "name": "Community_area_name"
                                    },
                                    {
                                        "name": "highest households below poverty line"
                                    }
                                ]
                            },
                            "data": [
                                {
                                    "Community_area_name": "Riverdale",
                                    "highest households below poverty line": "56.5"
                                },
                                {
                                    "Community_area_name": "Fuller Park",
                                    "highest households below poverty line": "51.2"
                                },
                                {
                                    "Community_area_name": "Englewood",
                                    "highest households below poverty line": "46.6"
                                },
                                {
                                    "Community_area_name": "North Lawndale",
                                    "highest households below poverty line": "43.1"
                                },
                                {
                                    "Community_area_name": "East Garfield Park",
                                    "highest households below poverty line": "42.4"
                                }
                            ]
                        },
                        "text/html": [
                            "<table>",
                            "<tr><th>Community_area_name</th><th>highest households below poverty line</th></tr>",
                            "<tr><td>Riverdale</td><td>56.5</td></tr>",
                            "<tr><td>Fuller Park</td><td>51.2</td></tr>",
                            "<tr><td>Englewood</td><td>46.6</td></tr>",
                            "<tr><td>North Lawndale</td><td>43.1</td></tr>",
                            "<tr><td>East Garfield Park</td><td>42.4</td></tr>",
                            "</table>"
                        ]
                    }
                }
            ],
            "execution_count": 48
        },
        {
            "cell_type": "markdown",
            "source": [
                "<span style=\"color: #800000;font-weight: bold;\">### Problem 8</span>\n",
                "\n",
                "  \n",
                "\n",
                "<span style=\"color: #800000;font-weight: bold;\">##### Which community area is most crime prone? Display the coumminty area number only.</span>"
            ],
            "metadata": {
                "azdata_cell_guid": "fe6da69d-2ef3-41fb-ac2c-e4fdcc158de1"
            },
            "attachments": {}
        },
        {
            "cell_type": "code",
            "source": [
                "SELECT TOP 1 COMMUNITY_AREA_NUMBER\r\n",
                "FROM chicagoCrimeData\r\n",
                "where COMMUNITY_AREA_NUMBER IS NOT NULL\r\n",
                "GROUP BY COMMUNITY_AREA_NUMBER\r\n",
                "ORDER BY COUNT(ID) DESC"
            ],
            "metadata": {
                "azdata_cell_guid": "39ea4e2e-7aac-4673-ad84-1e9e4ce592a2",
                "language": "sql",
                "tags": []
            },
            "outputs": [
                {
                    "output_type": "display_data",
                    "data": {
                        "text/html": "(1 row affected)"
                    },
                    "metadata": {}
                },
                {
                    "output_type": "display_data",
                    "data": {
                        "text/html": "Total execution time: 00:00:00.992"
                    },
                    "metadata": {}
                },
                {
                    "output_type": "execute_result",
                    "metadata": {},
                    "execution_count": 19,
                    "data": {
                        "application/vnd.dataresource+json": {
                            "schema": {
                                "fields": [
                                    {
                                        "name": "COMMUNITY_AREA_NUMBER"
                                    }
                                ]
                            },
                            "data": [
                                {
                                    "COMMUNITY_AREA_NUMBER": "25"
                                }
                            ]
                        },
                        "text/html": [
                            "<table>",
                            "<tr><th>COMMUNITY_AREA_NUMBER</th></tr>",
                            "<tr><td>25</td></tr>",
                            "</table>"
                        ]
                    }
                }
            ],
            "execution_count": 19
        },
        {
            "cell_type": "markdown",
            "source": [
                "<span style=\"color: #800000;font-weight: bold;\">### Problem 9</span>\n",
                "\n",
                "  \n",
                "\n",
                "<span style=\"color: #800000;font-weight: bold;\">##### Use a sub-query to find the name of the community area with highest hardship index</span>"
            ],
            "metadata": {
                "azdata_cell_guid": "ea599664-fe5a-4960-8de3-392fce44e4a0"
            },
            "attachments": {}
        },
        {
            "cell_type": "code",
            "source": [
                "select community_area_name \r\n",
                "from ChicagoCensusData\r\n",
                "where hardship_index = (select max(hardship_index) from ChicagoCensusData)"
            ],
            "metadata": {
                "azdata_cell_guid": "46eda880-1982-4776-86e3-70ec76819279",
                "language": "sql"
            },
            "outputs": [
                {
                    "output_type": "display_data",
                    "data": {
                        "text/html": "(1 row affected)"
                    },
                    "metadata": {}
                },
                {
                    "output_type": "display_data",
                    "data": {
                        "text/html": "Total execution time: 00:00:00.517"
                    },
                    "metadata": {}
                },
                {
                    "output_type": "execute_result",
                    "metadata": {},
                    "execution_count": 37,
                    "data": {
                        "application/vnd.dataresource+json": {
                            "schema": {
                                "fields": [
                                    {
                                        "name": "community_area_name"
                                    }
                                ]
                            },
                            "data": [
                                {
                                    "community_area_name": "Riverdale"
                                }
                            ]
                        },
                        "text/html": [
                            "<table>",
                            "<tr><th>community_area_name</th></tr>",
                            "<tr><td>Riverdale</td></tr>",
                            "</table>"
                        ]
                    }
                }
            ],
            "execution_count": 37
        },
        {
            "cell_type": "markdown",
            "source": [
                "<span style=\"color: #800000;font-weight: bold;\">### Problem 10</span>\n",
                "\n",
                "  \n",
                "\n",
                "<span style=\"color: #800000;font-weight: bold;\">##### Use a sub-query to determine the Community Area Name with most number of crimes?</span>"
            ],
            "metadata": {
                "azdata_cell_guid": "f2bfe641-4bee-4ac7-99fc-392e0a539ef5"
            },
            "attachments": {}
        },
        {
            "cell_type": "code",
            "source": [
                "SELECT top 1 COUNT(ccd.ID) as 'NumberOfCrimes',(select cd.community_area_name from ChicagoCensusData as cd where cd.COMMUNITY_AREA_NUMBER =ccd.COMMUNITY_AREA_NUMBER ) as 'CommunityName'\r\n",
                "FROM chicagoCrimeData as ccd \r\n",
                "where ccd.COMMUNITY_AREA_NUMBER IS NOT NULL \r\n",
                "GROUP BY ccd.COMMUNITY_AREA_NUMBER \r\n",
                "ORDER BY COUNT(ccd.ID) DESC"
            ],
            "metadata": {
                "azdata_cell_guid": "862ac0f3-1d6b-4ff5-971a-558cc81ab5d3",
                "language": "sql"
            },
            "outputs": [
                {
                    "output_type": "display_data",
                    "data": {
                        "text/html": "(1 row affected)"
                    },
                    "metadata": {}
                },
                {
                    "output_type": "display_data",
                    "data": {
                        "text/html": "Total execution time: 00:00:01.154"
                    },
                    "metadata": {}
                },
                {
                    "output_type": "execute_result",
                    "metadata": {},
                    "execution_count": 44,
                    "data": {
                        "application/vnd.dataresource+json": {
                            "schema": {
                                "fields": [
                                    {
                                        "name": "NumberOfCrimes"
                                    },
                                    {
                                        "name": "CommunityName"
                                    }
                                ]
                            },
                            "data": [
                                {
                                    "NumberOfCrimes": "43",
                                    "CommunityName": "Austin"
                                }
                            ]
                        },
                        "text/html": [
                            "<table>",
                            "<tr><th>NumberOfCrimes</th><th>CommunityName</th></tr>",
                            "<tr><td>43</td><td>Austin</td></tr>",
                            "</table>"
                        ]
                    }
                }
            ],
            "execution_count": 44
        }
    ]
}